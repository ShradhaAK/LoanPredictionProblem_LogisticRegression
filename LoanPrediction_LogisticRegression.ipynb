{
 "cells": [
  {
   "cell_type": "code",
   "execution_count": 317,
   "metadata": {
    "collapsed": true
   },
   "outputs": [],
   "source": [
    "import pandas as pd\n",
    "import matplotlib.pyplot as plt\n",
    "import numpy as np\n",
    "import seaborn as sns"
   ]
  },
  {
   "cell_type": "code",
   "execution_count": 318,
   "metadata": {
    "collapsed": true
   },
   "outputs": [],
   "source": [
    "df_train = pd.read_csv('train_u6lujuX_CVtuZ9i.csv') \n",
    "df_test = pd.read_csv('test_Y3wMUE5_7gLdaTN.csv')"
   ]
  },
  {
   "cell_type": "code",
   "execution_count": 319,
   "metadata": {},
   "outputs": [
    {
     "name": "stdout",
     "output_type": "stream",
     "text": [
      "<class 'pandas.core.frame.DataFrame'>\n",
      "RangeIndex: 614 entries, 0 to 613\n",
      "Data columns (total 13 columns):\n",
      "Loan_ID              614 non-null object\n",
      "Gender               601 non-null object\n",
      "Married              611 non-null object\n",
      "Dependents           599 non-null object\n",
      "Education            614 non-null object\n",
      "Self_Employed        582 non-null object\n",
      "ApplicantIncome      614 non-null int64\n",
      "CoapplicantIncome    614 non-null float64\n",
      "LoanAmount           592 non-null float64\n",
      "Loan_Amount_Term     600 non-null float64\n",
      "Credit_History       564 non-null float64\n",
      "Property_Area        614 non-null object\n",
      "Loan_Status          614 non-null object\n",
      "dtypes: float64(4), int64(1), object(8)\n",
      "memory usage: 62.4+ KB\n"
     ]
    }
   ],
   "source": [
    "df_train.info()"
   ]
  },
  {
   "cell_type": "code",
   "execution_count": 320,
   "metadata": {},
   "outputs": [
    {
     "data": {
      "text/html": [
       "<div>\n",
       "<style>\n",
       "    .dataframe thead tr:only-child th {\n",
       "        text-align: right;\n",
       "    }\n",
       "\n",
       "    .dataframe thead th {\n",
       "        text-align: left;\n",
       "    }\n",
       "\n",
       "    .dataframe tbody tr th {\n",
       "        vertical-align: top;\n",
       "    }\n",
       "</style>\n",
       "<table border=\"1\" class=\"dataframe\">\n",
       "  <thead>\n",
       "    <tr style=\"text-align: right;\">\n",
       "      <th></th>\n",
       "      <th>ApplicantIncome</th>\n",
       "      <th>CoapplicantIncome</th>\n",
       "      <th>LoanAmount</th>\n",
       "      <th>Loan_Amount_Term</th>\n",
       "      <th>Credit_History</th>\n",
       "    </tr>\n",
       "  </thead>\n",
       "  <tbody>\n",
       "    <tr>\n",
       "      <th>count</th>\n",
       "      <td>614.000000</td>\n",
       "      <td>614.000000</td>\n",
       "      <td>592.000000</td>\n",
       "      <td>600.00000</td>\n",
       "      <td>564.000000</td>\n",
       "    </tr>\n",
       "    <tr>\n",
       "      <th>mean</th>\n",
       "      <td>5403.459283</td>\n",
       "      <td>1621.245798</td>\n",
       "      <td>146.412162</td>\n",
       "      <td>342.00000</td>\n",
       "      <td>0.842199</td>\n",
       "    </tr>\n",
       "    <tr>\n",
       "      <th>std</th>\n",
       "      <td>6109.041673</td>\n",
       "      <td>2926.248369</td>\n",
       "      <td>85.587325</td>\n",
       "      <td>65.12041</td>\n",
       "      <td>0.364878</td>\n",
       "    </tr>\n",
       "    <tr>\n",
       "      <th>min</th>\n",
       "      <td>150.000000</td>\n",
       "      <td>0.000000</td>\n",
       "      <td>9.000000</td>\n",
       "      <td>12.00000</td>\n",
       "      <td>0.000000</td>\n",
       "    </tr>\n",
       "    <tr>\n",
       "      <th>25%</th>\n",
       "      <td>2877.500000</td>\n",
       "      <td>0.000000</td>\n",
       "      <td>100.000000</td>\n",
       "      <td>360.00000</td>\n",
       "      <td>1.000000</td>\n",
       "    </tr>\n",
       "    <tr>\n",
       "      <th>50%</th>\n",
       "      <td>3812.500000</td>\n",
       "      <td>1188.500000</td>\n",
       "      <td>128.000000</td>\n",
       "      <td>360.00000</td>\n",
       "      <td>1.000000</td>\n",
       "    </tr>\n",
       "    <tr>\n",
       "      <th>75%</th>\n",
       "      <td>5795.000000</td>\n",
       "      <td>2297.250000</td>\n",
       "      <td>168.000000</td>\n",
       "      <td>360.00000</td>\n",
       "      <td>1.000000</td>\n",
       "    </tr>\n",
       "    <tr>\n",
       "      <th>max</th>\n",
       "      <td>81000.000000</td>\n",
       "      <td>41667.000000</td>\n",
       "      <td>700.000000</td>\n",
       "      <td>480.00000</td>\n",
       "      <td>1.000000</td>\n",
       "    </tr>\n",
       "  </tbody>\n",
       "</table>\n",
       "</div>"
      ],
      "text/plain": [
       "       ApplicantIncome  CoapplicantIncome  LoanAmount  Loan_Amount_Term  \\\n",
       "count       614.000000         614.000000  592.000000         600.00000   \n",
       "mean       5403.459283        1621.245798  146.412162         342.00000   \n",
       "std        6109.041673        2926.248369   85.587325          65.12041   \n",
       "min         150.000000           0.000000    9.000000          12.00000   \n",
       "25%        2877.500000           0.000000  100.000000         360.00000   \n",
       "50%        3812.500000        1188.500000  128.000000         360.00000   \n",
       "75%        5795.000000        2297.250000  168.000000         360.00000   \n",
       "max       81000.000000       41667.000000  700.000000         480.00000   \n",
       "\n",
       "       Credit_History  \n",
       "count      564.000000  \n",
       "mean         0.842199  \n",
       "std          0.364878  \n",
       "min          0.000000  \n",
       "25%          1.000000  \n",
       "50%          1.000000  \n",
       "75%          1.000000  \n",
       "max          1.000000  "
      ]
     },
     "execution_count": 320,
     "metadata": {},
     "output_type": "execute_result"
    }
   ],
   "source": [
    "df_train.describe()"
   ]
  },
  {
   "cell_type": "code",
   "execution_count": 321,
   "metadata": {},
   "outputs": [
    {
     "data": {
      "text/html": [
       "<div>\n",
       "<style>\n",
       "    .dataframe thead tr:only-child th {\n",
       "        text-align: right;\n",
       "    }\n",
       "\n",
       "    .dataframe thead th {\n",
       "        text-align: left;\n",
       "    }\n",
       "\n",
       "    .dataframe tbody tr th {\n",
       "        vertical-align: top;\n",
       "    }\n",
       "</style>\n",
       "<table border=\"1\" class=\"dataframe\">\n",
       "  <thead>\n",
       "    <tr style=\"text-align: right;\">\n",
       "      <th></th>\n",
       "      <th>Loan_ID</th>\n",
       "      <th>Gender</th>\n",
       "      <th>Married</th>\n",
       "      <th>Dependents</th>\n",
       "      <th>Education</th>\n",
       "      <th>Self_Employed</th>\n",
       "      <th>ApplicantIncome</th>\n",
       "      <th>CoapplicantIncome</th>\n",
       "      <th>LoanAmount</th>\n",
       "      <th>Loan_Amount_Term</th>\n",
       "      <th>Credit_History</th>\n",
       "      <th>Property_Area</th>\n",
       "      <th>Loan_Status</th>\n",
       "    </tr>\n",
       "  </thead>\n",
       "  <tbody>\n",
       "    <tr>\n",
       "      <th>count</th>\n",
       "      <td>614</td>\n",
       "      <td>601</td>\n",
       "      <td>611</td>\n",
       "      <td>599</td>\n",
       "      <td>614</td>\n",
       "      <td>582</td>\n",
       "      <td>614.000000</td>\n",
       "      <td>614.000000</td>\n",
       "      <td>592.000000</td>\n",
       "      <td>600.00000</td>\n",
       "      <td>564.000000</td>\n",
       "      <td>614</td>\n",
       "      <td>614</td>\n",
       "    </tr>\n",
       "    <tr>\n",
       "      <th>unique</th>\n",
       "      <td>614</td>\n",
       "      <td>2</td>\n",
       "      <td>2</td>\n",
       "      <td>4</td>\n",
       "      <td>2</td>\n",
       "      <td>2</td>\n",
       "      <td>NaN</td>\n",
       "      <td>NaN</td>\n",
       "      <td>NaN</td>\n",
       "      <td>NaN</td>\n",
       "      <td>NaN</td>\n",
       "      <td>3</td>\n",
       "      <td>2</td>\n",
       "    </tr>\n",
       "    <tr>\n",
       "      <th>top</th>\n",
       "      <td>LP002175</td>\n",
       "      <td>Male</td>\n",
       "      <td>Yes</td>\n",
       "      <td>0</td>\n",
       "      <td>Graduate</td>\n",
       "      <td>No</td>\n",
       "      <td>NaN</td>\n",
       "      <td>NaN</td>\n",
       "      <td>NaN</td>\n",
       "      <td>NaN</td>\n",
       "      <td>NaN</td>\n",
       "      <td>Semiurban</td>\n",
       "      <td>Y</td>\n",
       "    </tr>\n",
       "    <tr>\n",
       "      <th>freq</th>\n",
       "      <td>1</td>\n",
       "      <td>489</td>\n",
       "      <td>398</td>\n",
       "      <td>345</td>\n",
       "      <td>480</td>\n",
       "      <td>500</td>\n",
       "      <td>NaN</td>\n",
       "      <td>NaN</td>\n",
       "      <td>NaN</td>\n",
       "      <td>NaN</td>\n",
       "      <td>NaN</td>\n",
       "      <td>233</td>\n",
       "      <td>422</td>\n",
       "    </tr>\n",
       "    <tr>\n",
       "      <th>mean</th>\n",
       "      <td>NaN</td>\n",
       "      <td>NaN</td>\n",
       "      <td>NaN</td>\n",
       "      <td>NaN</td>\n",
       "      <td>NaN</td>\n",
       "      <td>NaN</td>\n",
       "      <td>5403.459283</td>\n",
       "      <td>1621.245798</td>\n",
       "      <td>146.412162</td>\n",
       "      <td>342.00000</td>\n",
       "      <td>0.842199</td>\n",
       "      <td>NaN</td>\n",
       "      <td>NaN</td>\n",
       "    </tr>\n",
       "    <tr>\n",
       "      <th>std</th>\n",
       "      <td>NaN</td>\n",
       "      <td>NaN</td>\n",
       "      <td>NaN</td>\n",
       "      <td>NaN</td>\n",
       "      <td>NaN</td>\n",
       "      <td>NaN</td>\n",
       "      <td>6109.041673</td>\n",
       "      <td>2926.248369</td>\n",
       "      <td>85.587325</td>\n",
       "      <td>65.12041</td>\n",
       "      <td>0.364878</td>\n",
       "      <td>NaN</td>\n",
       "      <td>NaN</td>\n",
       "    </tr>\n",
       "    <tr>\n",
       "      <th>min</th>\n",
       "      <td>NaN</td>\n",
       "      <td>NaN</td>\n",
       "      <td>NaN</td>\n",
       "      <td>NaN</td>\n",
       "      <td>NaN</td>\n",
       "      <td>NaN</td>\n",
       "      <td>150.000000</td>\n",
       "      <td>0.000000</td>\n",
       "      <td>9.000000</td>\n",
       "      <td>12.00000</td>\n",
       "      <td>0.000000</td>\n",
       "      <td>NaN</td>\n",
       "      <td>NaN</td>\n",
       "    </tr>\n",
       "    <tr>\n",
       "      <th>25%</th>\n",
       "      <td>NaN</td>\n",
       "      <td>NaN</td>\n",
       "      <td>NaN</td>\n",
       "      <td>NaN</td>\n",
       "      <td>NaN</td>\n",
       "      <td>NaN</td>\n",
       "      <td>2877.500000</td>\n",
       "      <td>0.000000</td>\n",
       "      <td>100.000000</td>\n",
       "      <td>360.00000</td>\n",
       "      <td>1.000000</td>\n",
       "      <td>NaN</td>\n",
       "      <td>NaN</td>\n",
       "    </tr>\n",
       "    <tr>\n",
       "      <th>50%</th>\n",
       "      <td>NaN</td>\n",
       "      <td>NaN</td>\n",
       "      <td>NaN</td>\n",
       "      <td>NaN</td>\n",
       "      <td>NaN</td>\n",
       "      <td>NaN</td>\n",
       "      <td>3812.500000</td>\n",
       "      <td>1188.500000</td>\n",
       "      <td>128.000000</td>\n",
       "      <td>360.00000</td>\n",
       "      <td>1.000000</td>\n",
       "      <td>NaN</td>\n",
       "      <td>NaN</td>\n",
       "    </tr>\n",
       "    <tr>\n",
       "      <th>75%</th>\n",
       "      <td>NaN</td>\n",
       "      <td>NaN</td>\n",
       "      <td>NaN</td>\n",
       "      <td>NaN</td>\n",
       "      <td>NaN</td>\n",
       "      <td>NaN</td>\n",
       "      <td>5795.000000</td>\n",
       "      <td>2297.250000</td>\n",
       "      <td>168.000000</td>\n",
       "      <td>360.00000</td>\n",
       "      <td>1.000000</td>\n",
       "      <td>NaN</td>\n",
       "      <td>NaN</td>\n",
       "    </tr>\n",
       "    <tr>\n",
       "      <th>max</th>\n",
       "      <td>NaN</td>\n",
       "      <td>NaN</td>\n",
       "      <td>NaN</td>\n",
       "      <td>NaN</td>\n",
       "      <td>NaN</td>\n",
       "      <td>NaN</td>\n",
       "      <td>81000.000000</td>\n",
       "      <td>41667.000000</td>\n",
       "      <td>700.000000</td>\n",
       "      <td>480.00000</td>\n",
       "      <td>1.000000</td>\n",
       "      <td>NaN</td>\n",
       "      <td>NaN</td>\n",
       "    </tr>\n",
       "  </tbody>\n",
       "</table>\n",
       "</div>"
      ],
      "text/plain": [
       "         Loan_ID Gender Married Dependents Education Self_Employed  \\\n",
       "count        614    601     611        599       614           582   \n",
       "unique       614      2       2          4         2             2   \n",
       "top     LP002175   Male     Yes          0  Graduate            No   \n",
       "freq           1    489     398        345       480           500   \n",
       "mean         NaN    NaN     NaN        NaN       NaN           NaN   \n",
       "std          NaN    NaN     NaN        NaN       NaN           NaN   \n",
       "min          NaN    NaN     NaN        NaN       NaN           NaN   \n",
       "25%          NaN    NaN     NaN        NaN       NaN           NaN   \n",
       "50%          NaN    NaN     NaN        NaN       NaN           NaN   \n",
       "75%          NaN    NaN     NaN        NaN       NaN           NaN   \n",
       "max          NaN    NaN     NaN        NaN       NaN           NaN   \n",
       "\n",
       "        ApplicantIncome  CoapplicantIncome  LoanAmount  Loan_Amount_Term  \\\n",
       "count        614.000000         614.000000  592.000000         600.00000   \n",
       "unique              NaN                NaN         NaN               NaN   \n",
       "top                 NaN                NaN         NaN               NaN   \n",
       "freq                NaN                NaN         NaN               NaN   \n",
       "mean        5403.459283        1621.245798  146.412162         342.00000   \n",
       "std         6109.041673        2926.248369   85.587325          65.12041   \n",
       "min          150.000000           0.000000    9.000000          12.00000   \n",
       "25%         2877.500000           0.000000  100.000000         360.00000   \n",
       "50%         3812.500000        1188.500000  128.000000         360.00000   \n",
       "75%         5795.000000        2297.250000  168.000000         360.00000   \n",
       "max        81000.000000       41667.000000  700.000000         480.00000   \n",
       "\n",
       "        Credit_History Property_Area Loan_Status  \n",
       "count       564.000000           614         614  \n",
       "unique             NaN             3           2  \n",
       "top                NaN     Semiurban           Y  \n",
       "freq               NaN           233         422  \n",
       "mean          0.842199           NaN         NaN  \n",
       "std           0.364878           NaN         NaN  \n",
       "min           0.000000           NaN         NaN  \n",
       "25%           1.000000           NaN         NaN  \n",
       "50%           1.000000           NaN         NaN  \n",
       "75%           1.000000           NaN         NaN  \n",
       "max           1.000000           NaN         NaN  "
      ]
     },
     "execution_count": 321,
     "metadata": {},
     "output_type": "execute_result"
    }
   ],
   "source": [
    "df_train.describe(include='all')"
   ]
  },
  {
   "cell_type": "code",
   "execution_count": 322,
   "metadata": {},
   "outputs": [
    {
     "data": {
      "text/plain": [
       "Credit_History       8.143322\n",
       "Self_Employed        5.211726\n",
       "LoanAmount           3.583062\n",
       "Dependents           2.442997\n",
       "Loan_Amount_Term     2.280130\n",
       "Gender               2.117264\n",
       "Married              0.488599\n",
       "Loan_Status          0.000000\n",
       "Property_Area        0.000000\n",
       "CoapplicantIncome    0.000000\n",
       "ApplicantIncome      0.000000\n",
       "Education            0.000000\n",
       "Loan_ID              0.000000\n",
       "dtype: float64"
      ]
     },
     "execution_count": 322,
     "metadata": {},
     "output_type": "execute_result"
    }
   ],
   "source": [
    "(df_train.isnull().sum(axis=0)*100/len(df_train)).sort_values(ascending=False)"
   ]
  },
  {
   "cell_type": "code",
   "execution_count": 323,
   "metadata": {},
   "outputs": [
    {
     "data": {
      "text/plain": [
       "1.0    0.842199\n",
       "0.0    0.157801\n",
       "Name: Credit_History, dtype: float64"
      ]
     },
     "execution_count": 323,
     "metadata": {},
     "output_type": "execute_result"
    }
   ],
   "source": [
    "df_train.Credit_History.value_counts(normalize=True)"
   ]
  },
  {
   "cell_type": "code",
   "execution_count": 324,
   "metadata": {
    "collapsed": true
   },
   "outputs": [],
   "source": [
    "df_train.Credit_History.fillna(value=df_train.Credit_History.mode()[0],inplace=True)"
   ]
  },
  {
   "cell_type": "code",
   "execution_count": 325,
   "metadata": {},
   "outputs": [
    {
     "data": {
      "text/plain": [
       "No     0.859107\n",
       "Yes    0.140893\n",
       "Name: Self_Employed, dtype: float64"
      ]
     },
     "execution_count": 325,
     "metadata": {},
     "output_type": "execute_result"
    }
   ],
   "source": [
    "df_train.Self_Employed.value_counts(normalize=True)"
   ]
  },
  {
   "cell_type": "code",
   "execution_count": 326,
   "metadata": {
    "collapsed": true
   },
   "outputs": [],
   "source": [
    "df_train.Self_Employed.fillna(value=df_train.Self_Employed.mode()[0],inplace=True)"
   ]
  },
  {
   "cell_type": "code",
   "execution_count": 327,
   "metadata": {},
   "outputs": [
    {
     "data": {
      "text/plain": [
       "0     0.575960\n",
       "1     0.170284\n",
       "2     0.168614\n",
       "3+    0.085142\n",
       "Name: Dependents, dtype: float64"
      ]
     },
     "execution_count": 327,
     "metadata": {},
     "output_type": "execute_result"
    }
   ],
   "source": [
    "df_train.Dependents.value_counts(normalize=True)"
   ]
  },
  {
   "cell_type": "code",
   "execution_count": 328,
   "metadata": {},
   "outputs": [
    {
     "data": {
      "text/plain": [
       "(599, 13)"
      ]
     },
     "execution_count": 328,
     "metadata": {},
     "output_type": "execute_result"
    }
   ],
   "source": [
    "#Here in case of na values in dependents we are going to delete rows containing Dependents as NAs.\n",
    "df_train = df_train[~df_train.Dependents.isnull()]\n",
    "df_train.shape"
   ]
  },
  {
   "cell_type": "code",
   "execution_count": 329,
   "metadata": {},
   "outputs": [
    {
     "data": {
      "text/plain": [
       "360.0    0.856655\n",
       "180.0    0.073379\n",
       "480.0    0.022184\n",
       "300.0    0.022184\n",
       "84.0     0.006826\n",
       "240.0    0.005119\n",
       "120.0    0.005119\n",
       "36.0     0.003413\n",
       "60.0     0.003413\n",
       "12.0     0.001706\n",
       "Name: Loan_Amount_Term, dtype: float64"
      ]
     },
     "execution_count": 329,
     "metadata": {},
     "output_type": "execute_result"
    }
   ],
   "source": [
    "len(df_train.Loan_Amount_Term.unique())\n",
    "df_train.Loan_Amount_Term.value_counts(normalize=True)"
   ]
  },
  {
   "cell_type": "code",
   "execution_count": 330,
   "metadata": {
    "collapsed": true
   },
   "outputs": [],
   "source": [
    "df_train.Loan_Amount_Term.fillna(value=df_train.Loan_Amount_Term.mode()[0],inplace=True)"
   ]
  },
  {
   "cell_type": "code",
   "execution_count": 331,
   "metadata": {
    "collapsed": true
   },
   "outputs": [],
   "source": [
    "df_train.Gender.fillna(value=df_train.Gender.mode()[0],inplace=True)"
   ]
  },
  {
   "cell_type": "code",
   "execution_count": 332,
   "metadata": {},
   "outputs": [
    {
     "data": {
      "text/plain": [
       "Loan_ID              0.00\n",
       "Gender               0.00\n",
       "Married              0.00\n",
       "Dependents           0.00\n",
       "Education            0.00\n",
       "Self_Employed        0.00\n",
       "ApplicantIncome      0.00\n",
       "CoapplicantIncome    0.00\n",
       "LoanAmount           3.34\n",
       "Loan_Amount_Term     0.00\n",
       "Credit_History       0.00\n",
       "Property_Area        0.00\n",
       "Loan_Status          0.00\n",
       "dtype: float64"
      ]
     },
     "execution_count": 332,
     "metadata": {},
     "output_type": "execute_result"
    }
   ],
   "source": [
    "round((df_train.isnull().sum(axis=0)/len(df_train))*100,2)"
   ]
  },
  {
   "cell_type": "code",
   "execution_count": 333,
   "metadata": {},
   "outputs": [
    {
     "data": {
      "text/plain": [
       "count    579.000000\n",
       "mean     146.816926\n",
       "std       86.343049\n",
       "min        9.000000\n",
       "25%      100.000000\n",
       "50%      128.000000\n",
       "75%      169.000000\n",
       "max      700.000000\n",
       "Name: LoanAmount, dtype: float64"
      ]
     },
     "execution_count": 333,
     "metadata": {},
     "output_type": "execute_result"
    }
   ],
   "source": [
    "df_train.LoanAmount.describe()"
   ]
  },
  {
   "cell_type": "code",
   "execution_count": 334,
   "metadata": {
    "collapsed": true
   },
   "outputs": [],
   "source": [
    "df_train= df_train[~df_train.LoanAmount.isnull()]"
   ]
  },
  {
   "cell_type": "code",
   "execution_count": 335,
   "metadata": {},
   "outputs": [
    {
     "data": {
      "text/plain": [
       "Loan_ID              0.0\n",
       "Gender               0.0\n",
       "Married              0.0\n",
       "Dependents           0.0\n",
       "Education            0.0\n",
       "Self_Employed        0.0\n",
       "ApplicantIncome      0.0\n",
       "CoapplicantIncome    0.0\n",
       "LoanAmount           0.0\n",
       "Loan_Amount_Term     0.0\n",
       "Credit_History       0.0\n",
       "Property_Area        0.0\n",
       "Loan_Status          0.0\n",
       "dtype: float64"
      ]
     },
     "execution_count": 335,
     "metadata": {},
     "output_type": "execute_result"
    }
   ],
   "source": [
    "df_train.isnull().sum(axis=0)/len(df_train)"
   ]
  },
  {
   "cell_type": "code",
   "execution_count": 336,
   "metadata": {},
   "outputs": [
    {
     "data": {
      "text/plain": [
       "(579, 13)"
      ]
     },
     "execution_count": 336,
     "metadata": {},
     "output_type": "execute_result"
    }
   ],
   "source": [
    "df_train.shape"
   ]
  },
  {
   "cell_type": "markdown",
   "metadata": {},
   "source": [
    "Now we will perform logistic regression for this we need to find the variables which impact the loan status"
   ]
  },
  {
   "cell_type": "code",
   "execution_count": 337,
   "metadata": {
    "collapsed": true
   },
   "outputs": [],
   "source": [
    "import seaborn as sns\n",
    "import matplotlib.pyplot as plt"
   ]
  },
  {
   "cell_type": "code",
   "execution_count": 338,
   "metadata": {},
   "outputs": [
    {
     "data": {
      "image/png": "[encoded data removed]",
      "text/plain": [
       "<matplotlib.figure.Figure at 0xc9eafd0>"
      ]
     },
     "metadata": {},
     "output_type": "display_data"
    }
   ],
   "source": [
    "plt.figure(figsize=(14,7))\n",
    "plt.subplot(2,4,1)\n",
    "sns.countplot(hue = df_train.Loan_Status, x= df_train.Gender)\n",
    "plt.subplot(2,4,2)\n",
    "sns.countplot(hue = df_train.Loan_Status, x= df_train.Married)\n",
    "plt.subplot(2,4,3)\n",
    "sns.countplot(hue = df_train.Loan_Status, x= df_train.Dependents)\n",
    "plt.subplot(2,4,4)\n",
    "sns.countplot(hue = df_train.Loan_Status, x= df_train.Education)\n",
    "plt.subplot(2,4,5)\n",
    "sns.countplot(hue = df_train.Loan_Status, x= df_train.Self_Employed)\n",
    "plt.subplot(2,4,6)\n",
    "sns.countplot(hue = df_train.Loan_Status, x= df_train.Loan_Amount_Term)\n",
    "plt.subplot(2,4,7)\n",
    "sns.countplot(hue = df_train.Loan_Status, x= df_train.Credit_History)\n",
    "plt.subplot(2,4,8)\n",
    "sns.countplot(hue = df_train.Loan_Status, x= df_train.Property_Area)\n",
    "plt.show()"
   ]
  },
  {
   "cell_type": "code",
   "execution_count": 339,
   "metadata": {
    "collapsed": true
   },
   "outputs": [],
   "source": [
    "import pandas as pd\n",
    "Gender_pd = pd.get_dummies(df_train.Gender)\n",
    "Gender_pd.head\n",
    "\n",
    "Gender_pd = Gender_pd[['Female']]"
   ]
  },
  {
   "cell_type": "code",
   "execution_count": 340,
   "metadata": {
    "collapsed": true
   },
   "outputs": [],
   "source": [
    "Married_pd = pd.get_dummies(df_train.Married)\n",
    "Married_pd = Married_pd[['No']]"
   ]
  },
  {
   "cell_type": "code",
   "execution_count": 341,
   "metadata": {
    "collapsed": true
   },
   "outputs": [],
   "source": [
    "Dependents_pd = pd.get_dummies(df_train.Dependents)\n",
    "Dependents_pd = Dependents_pd[['0','1','2']]"
   ]
  },
  {
   "cell_type": "markdown",
   "metadata": {},
   "source": [
    "#self employed we do not need to convert it into dummy variable it is already in binary form."
   ]
  },
  {
   "cell_type": "code",
   "execution_count": 342,
   "metadata": {
    "collapsed": true
   },
   "outputs": [],
   "source": [
    "yr = df_train.Loan_Amount_Term\n",
    "yr = yr/12\n",
    "yr\n",
    "LAT_pd = pd.get_dummies(yr)\n",
    "LAT_pd = LAT_pd [[1.0,3.0,5.0,7.0,10.0,15.0,20.0,25.0,30.0]]"
   ]
  },
  {
   "cell_type": "code",
   "execution_count": 343,
   "metadata": {
    "collapsed": true
   },
   "outputs": [],
   "source": [
    "CH_pd = pd.get_dummies(df_train.Credit_History)\n",
    "CH_pd = CH_pd[[0.0]]"
   ]
  },
  {
   "cell_type": "code",
   "execution_count": 344,
   "metadata": {},
   "outputs": [
    {
     "name": "stderr",
     "output_type": "stream",
     "text": [
      "C:\\Users\\Administrator\\Desktop\\Python\\New folder\\lib\\site-packages\\ipykernel_launcher.py:3: SettingWithCopyWarning: \n",
      "A value is trying to be set on a copy of a slice from a DataFrame.\n",
      "Try using .loc[row_indexer,col_indexer] = value instead\n",
      "\n",
      "See the caveats in the documentation: http://pandas.pydata.org/pandas-docs/stable/indexing.html#indexing-view-versus-copy\n",
      "  This is separate from the ipykernel package so we can avoid doing imports until\n",
      "C:\\Users\\Administrator\\Desktop\\Python\\New folder\\lib\\site-packages\\pandas\\core\\frame.py:2444: SettingWithCopyWarning: \n",
      "A value is trying to be set on a copy of a slice from a DataFrame\n",
      "\n",
      "See the caveats in the documentation: http://pandas.pydata.org/pandas-docs/stable/indexing.html#indexing-view-versus-copy\n",
      "  self.loc._setitem_with_indexer(indexer, value)\n",
      "C:\\Users\\Administrator\\Desktop\\Python\\New folder\\lib\\site-packages\\pandas\\core\\frame.py:2424: SettingWithCopyWarning: \n",
      "A value is trying to be set on a copy of a slice from a DataFrame\n",
      "\n",
      "See the caveats in the documentation: http://pandas.pydata.org/pandas-docs/stable/indexing.html#indexing-view-versus-copy\n",
      "  self._setitem_array(key, value)\n",
      "C:\\Users\\Administrator\\Desktop\\Python\\New folder\\lib\\site-packages\\ipykernel_launcher.py:4: SettingWithCopyWarning: \n",
      "A value is trying to be set on a copy of a slice from a DataFrame.\n",
      "Try using .loc[row_indexer,col_indexer] = value instead\n",
      "\n",
      "See the caveats in the documentation: http://pandas.pydata.org/pandas-docs/stable/indexing.html#indexing-view-versus-copy\n",
      "  after removing the cwd from sys.path.\n",
      "C:\\Users\\Administrator\\Desktop\\Python\\New folder\\lib\\site-packages\\ipykernel_launcher.py:5: SettingWithCopyWarning: \n",
      "A value is trying to be set on a copy of a slice from a DataFrame.\n",
      "Try using .loc[row_indexer,col_indexer] = value instead\n",
      "\n",
      "See the caveats in the documentation: http://pandas.pydata.org/pandas-docs/stable/indexing.html#indexing-view-versus-copy\n",
      "  \"\"\"\n"
     ]
    }
   ],
   "source": [
    "#in property area categories are in form of strings so before converting them to dummies convert it into numeric\n",
    "PA = df_train[['Property_Area']]\n",
    "PA[PA.Property_Area == 'Rural'] = 0\n",
    "PA[PA.Property_Area == 'Semiurban'] = 1\n",
    "PA[PA.Property_Area == 'Urban'] = 2 \n",
    "\n",
    "# now this is numeric form\n",
    "PA_pd = pd.get_dummies(PA)\n",
    "PA_pd = PA_pd[['Property_Area_0','Property_Area_1']]"
   ]
  },
  {
   "cell_type": "code",
   "execution_count": 345,
   "metadata": {
    "collapsed": true
   },
   "outputs": [],
   "source": [
    "LS_pd = pd.get_dummies(df_train.Loan_Status)\n",
    "LS_pd = LS_pd[['Y']]"
   ]
  },
  {
   "cell_type": "markdown",
   "metadata": {},
   "source": [
    "Now we can start with the implementation of logistic regression"
   ]
  },
  {
   "cell_type": "markdown",
   "metadata": {
    "collapsed": true
   },
   "source": [
    " we will construct a dataframe containing all the dummy variables"
   ]
  },
  {
   "cell_type": "markdown",
   "metadata": {},
   "source": []
  },
  {
   "cell_type": "code",
   "execution_count": 346,
   "metadata": {
    "collapsed": true
   },
   "outputs": [],
   "source": [
    "X = pd.concat([Gender_pd,Married_pd,Dependents_pd,LAT_pd, CH_pd, PA_pd], axis=1)\n",
    "y = LS_pd"
   ]
  },
  {
   "cell_type": "code",
   "execution_count": 347,
   "metadata": {},
   "outputs": [
    {
     "name": "stderr",
     "output_type": "stream",
     "text": [
      "C:\\Users\\Administrator\\Desktop\\Python\\New folder\\lib\\site-packages\\sklearn\\utils\\validation.py:526: DataConversionWarning: A column-vector y was passed when a 1d array was expected. Please change the shape of y to (n_samples, ), for example using ravel().\n",
      "  y = column_or_1d(y, warn=True)\n"
     ]
    },
    {
     "data": {
      "text/plain": [
       "LogisticRegression(C=1.0, class_weight=None, dual=False, fit_intercept=True,\n",
       "          intercept_scaling=1, max_iter=100, multi_class='ovr', n_jobs=1,\n",
       "          penalty='l2', random_state=None, solver='liblinear', tol=0.0001,\n",
       "          verbose=0, warm_start=False)"
      ]
     },
     "execution_count": 347,
     "metadata": {},
     "output_type": "execute_result"
    }
   ],
   "source": [
    "from sklearn.linear_model import LogisticRegression\n",
    "logreg = LogisticRegression()\n",
    "\n",
    "LoR = logreg.fit(X,y)\n",
    "LoR"
   ]
  },
  {
   "cell_type": "code",
   "execution_count": 348,
   "metadata": {
    "collapsed": true
   },
   "outputs": [],
   "source": [
    "pred = LoR.predict(X)\n"
   ]
  },
  {
   "cell_type": "code",
   "execution_count": 349,
   "metadata": {},
   "outputs": [
    {
     "data": {
      "text/plain": [
       "array([[-0.00740668, -0.45841172,  0.1156727 , -0.37303568,  0.35881722,\n",
       "         0.25420358, -0.89283941,  0.5196862 ,  0.21134972,  0.49971288,\n",
       "         0.93360485,  0.06999325,  0.2618974 ,  0.68725225, -3.35004869,\n",
       "        -0.36533402,  0.55974153]])"
      ]
     },
     "execution_count": 349,
     "metadata": {},
     "output_type": "execute_result"
    }
   ],
   "source": [
    "LoR.coef_"
   ]
  },
  {
   "cell_type": "code",
   "execution_count": 350,
   "metadata": {},
   "outputs": [
    {
     "data": {
      "text/plain": [
       "array([ 0.7050552])"
      ]
     },
     "execution_count": 350,
     "metadata": {},
     "output_type": "execute_result"
    }
   ],
   "source": [
    "LoR.intercept_"
   ]
  },
  {
   "cell_type": "code",
   "execution_count": 351,
   "metadata": {},
   "outputs": [
    {
     "data": {
      "text/plain": [
       "0.81174438687392059"
      ]
     },
     "execution_count": 351,
     "metadata": {},
     "output_type": "execute_result"
    }
   ],
   "source": [
    "from sklearn.metrics import accuracy_score\n",
    "AccScore = accuracy_score(y,pred)\n",
    "AccScore"
   ]
  },
  {
   "cell_type": "code",
   "execution_count": 352,
   "metadata": {},
   "outputs": [
    {
     "data": {
      "text/plain": [
       "array([[ 75, 100],\n",
       "       [  9, 395]])"
      ]
     },
     "execution_count": 352,
     "metadata": {},
     "output_type": "execute_result"
    }
   ],
   "source": [
    "from sklearn.metrics import confusion_matrix\n",
    "ConMatrix = confusion_matrix(y,pred)\n",
    "ConMatrix"
   ]
  },
  {
   "cell_type": "code",
   "execution_count": 353,
   "metadata": {},
   "outputs": [
    {
     "data": {
      "text/plain": [
       "0.9777227722772277"
      ]
     },
     "execution_count": 353,
     "metadata": {},
     "output_type": "execute_result"
    }
   ],
   "source": [
    "from sklearn.metrics import recall_score \n",
    "sensitivity = recall_score(y,pred)\n",
    "sensitivity"
   ]
  },
  {
   "cell_type": "code",
   "execution_count": 354,
   "metadata": {},
   "outputs": [
    {
     "data": {
      "text/plain": [
       "'             precision    recall  f1-score   support\\n\\n          0       0.89      0.43      0.58       175\\n          1       0.80      0.98      0.88       404\\n\\navg / total       0.83      0.81      0.79       579\\n'"
      ]
     },
     "execution_count": 354,
     "metadata": {},
     "output_type": "execute_result"
    }
   ],
   "source": [
    "from sklearn.metrics import classification_report\n",
    "c_report = classification_report(y,pred)\n",
    "c_report"
   ]
  },
  {
   "cell_type": "code",
   "execution_count": 355,
   "metadata": {},
   "outputs": [
    {
     "name": "stdout",
     "output_type": "stream",
     "text": [
      "             precision    recall  f1-score   support\n",
      "\n",
      "          0       0.89      0.43      0.58       175\n",
      "          1       0.80      0.98      0.88       404\n",
      "\n",
      "avg / total       0.83      0.81      0.79       579\n",
      "\n"
     ]
    }
   ],
   "source": [
    "from sklearn import metrics\n",
    "print(metrics.classification_report(y,pred))"
   ]
  },
  {
   "cell_type": "code",
   "execution_count": 356,
   "metadata": {},
   "outputs": [
    {
     "data": {
      "text/plain": [
       "Y    0.697755\n",
       "N    0.302245\n",
       "Name: Loan_Status, dtype: float64"
      ]
     },
     "execution_count": 356,
     "metadata": {},
     "output_type": "execute_result"
    }
   ],
   "source": [
    "df_train.Loan_Status.value_counts(normalize=True)"
   ]
  },
  {
   "cell_type": "markdown",
   "metadata": {},
   "source": [
    "we will the check the sensitivity and specificity of the model manually through the confusion matrix."
   ]
  },
  {
   "cell_type": "code",
   "execution_count": 357,
   "metadata": {},
   "outputs": [
    {
     "data": {
      "text/plain": [
       "0.9777227722772277"
      ]
     },
     "execution_count": 357,
     "metadata": {},
     "output_type": "execute_result"
    }
   ],
   "source": [
    "# Here tp=395, fp=100  , tn =75  , fn= 9\n",
    "\n",
    "#sensitivity = tp/tp+fn  (true positive rate)\n",
    "sensitivity = 395/(395+9)\n",
    "sensitivity"
   ]
  },
  {
   "cell_type": "code",
   "execution_count": 358,
   "metadata": {},
   "outputs": [
    {
     "data": {
      "text/plain": [
       "0.42857142857142855"
      ]
     },
     "execution_count": 358,
     "metadata": {},
     "output_type": "execute_result"
    }
   ],
   "source": [
    "#specificity = tn/tn+fp (true negative rate)\n",
    "\n",
    "specificity = 75/(75+100)\n",
    "specificity"
   ]
  },
  {
   "cell_type": "code",
   "execution_count": 359,
   "metadata": {},
   "outputs": [
    {
     "data": {
      "text/plain": [
       "array([[ 0.34210272,  0.65789728],\n",
       "       [ 0.18123833,  0.81876167],\n",
       "       [ 0.18123833,  0.81876167],\n",
       "       ..., \n",
       "       [ 0.26516927,  0.73483073],\n",
       "       [ 0.1479054 ,  0.8520946 ],\n",
       "       [ 0.85171873,  0.14828127]])"
      ]
     },
     "execution_count": 359,
     "metadata": {},
     "output_type": "execute_result"
    }
   ],
   "source": [
    "pred_prob = LoR.predict_proba(X)\n",
    "pred_prob"
   ]
  },
  {
   "cell_type": "code",
   "execution_count": 360,
   "metadata": {},
   "outputs": [
    {
     "data": {
      "text/plain": [
       "0.45175983991403806"
      ]
     },
     "execution_count": 360,
     "metadata": {},
     "output_type": "execute_result"
    }
   ],
   "source": [
    "from sklearn.metrics import log_loss\n",
    "loss1 = log_loss(y, pred_prob)\n",
    "loss1"
   ]
  },
  {
   "cell_type": "code",
   "execution_count": 361,
   "metadata": {},
   "outputs": [
    {
     "data": {
      "text/plain": [
       "<function sklearn.metrics.classification.f1_score>"
      ]
     },
     "execution_count": 361,
     "metadata": {},
     "output_type": "execute_result"
    }
   ],
   "source": [
    "f1LoR = metrics.f1_score\n",
    "f1LoR"
   ]
  },
  {
   "cell_type": "code",
   "execution_count": 362,
   "metadata": {},
   "outputs": [
    {
     "data": {
      "text/plain": [
       "(579, 2)"
      ]
     },
     "execution_count": 362,
     "metadata": {},
     "output_type": "execute_result"
    }
   ],
   "source": [
    "pred_prob.shape"
   ]
  },
  {
   "cell_type": "code",
   "execution_count": 363,
   "metadata": {
    "collapsed": true
   },
   "outputs": [],
   "source": [
    "probof0=pred_prob[:,0]"
   ]
  },
  {
   "cell_type": "code",
   "execution_count": null,
   "metadata": {
    "collapsed": true
   },
   "outputs": [],
   "source": []
  },
  {
   "cell_type": "code",
   "execution_count": 364,
   "metadata": {
    "collapsed": true
   },
   "outputs": [],
   "source": [
    "def defaultpred(y):\n",
    "        return [0 if y >= 0.5 else 1 for y in probof0]"
   ]
  },
  {
   "cell_type": "code",
   "execution_count": 365,
   "metadata": {},
   "outputs": [
    {
     "name": "stdout",
     "output_type": "stream",
     "text": [
      "[[ 75 100]\n",
      " [  9 395]]\n"
     ]
    }
   ],
   "source": [
    "from sklearn.metrics import confusion_matrix\n",
    "CMdef = confusion_matrix(y,defaultpred(y))\n",
    "print(CMdef)"
   ]
  },
  {
   "cell_type": "code",
   "execution_count": 366,
   "metadata": {
    "collapsed": true
   },
   "outputs": [],
   "source": [
    "for i in enumerate(np.linspace(0.2,0.8,50,True)):\n",
    "    def pred(i):\n",
    "        return[0 if y>=i else 1 for y in probof0]\n",
    "    "
   ]
  },
  {
   "cell_type": "code",
   "execution_count": 367,
   "metadata": {
    "collapsed": true
   },
   "outputs": [],
   "source": [
    "for i in enumerate(np.linspace(0.2,0.8,50,True)):\n",
    "    def CM(i):\n",
    "        return[confusion_matrix(y,pred(i))]"
   ]
  },
  {
   "cell_type": "code",
   "execution_count": 368,
   "metadata": {
    "collapsed": true
   },
   "outputs": [],
   "source": [
    "for i in enumerate(np.linspace(0.2,0.8,50,True)):\n",
    "    def accuracy(i):\n",
    "        return[accuracy_score(y,pred(i))]\n"
   ]
  },
  {
   "cell_type": "code",
   "execution_count": 369,
   "metadata": {},
   "outputs": [
    {
     "data": {
      "text/plain": [
       "Y    404\n",
       "dtype: int64"
      ]
     },
     "execution_count": 369,
     "metadata": {},
     "output_type": "execute_result"
    }
   ],
   "source": [
    "y[y == 1].count()\n",
    "#actual no of ones in the data is 404"
   ]
  },
  {
   "cell_type": "code",
   "execution_count": 370,
   "metadata": {},
   "outputs": [
    {
     "data": {
      "text/plain": [
       "Y    175\n",
       "dtype: int64"
      ]
     },
     "execution_count": 370,
     "metadata": {},
     "output_type": "execute_result"
    }
   ],
   "source": [
    "y[y == 0].count()\n",
    "#actual no of ones in the data is 175"
   ]
  },
  {
   "cell_type": "code",
   "execution_count": 371,
   "metadata": {
    "collapsed": true
   },
   "outputs": [],
   "source": [
    "#measuring sensitivity (true positive rate)\n",
    "for i in enumerate(np.linspace(0.2,0.8,50,True)):\n",
    "    def sensitivity(i):\n",
    "        return[CM(i)[0][1][1]/404]"
   ]
  },
  {
   "cell_type": "code",
   "execution_count": 372,
   "metadata": {
    "collapsed": true
   },
   "outputs": [],
   "source": [
    "#measuring specificity (true negative rate)\n",
    "for i in enumerate(np.linspace(0.2,0.8,50,True)):\n",
    "    def specificity(i):\n",
    "        return[CM(i)[0][0][0]/175]"
   ]
  },
  {
   "cell_type": "raw",
   "metadata": {},
   "source": [
    "Now we will plot sensitivity, specificity and accuracy on a graph"
   ]
  },
  {
   "cell_type": "code",
   "execution_count": 373,
   "metadata": {},
   "outputs": [
    {
     "data": {
      "text/plain": [
       "array([ 0.2       ,  0.2122449 ,  0.2244898 ,  0.23673469,  0.24897959,\n",
       "        0.26122449,  0.27346939,  0.28571429,  0.29795918,  0.31020408,\n",
       "        0.32244898,  0.33469388,  0.34693878,  0.35918367,  0.37142857,\n",
       "        0.38367347,  0.39591837,  0.40816327,  0.42040816,  0.43265306,\n",
       "        0.44489796,  0.45714286,  0.46938776,  0.48163265,  0.49387755,\n",
       "        0.50612245,  0.51836735,  0.53061224,  0.54285714,  0.55510204,\n",
       "        0.56734694,  0.57959184,  0.59183673,  0.60408163,  0.61632653,\n",
       "        0.62857143,  0.64081633,  0.65306122,  0.66530612,  0.67755102,\n",
       "        0.68979592,  0.70204082,  0.71428571,  0.72653061,  0.73877551,\n",
       "        0.75102041,  0.76326531,  0.7755102 ,  0.7877551 ,  0.8       ])"
      ]
     },
     "execution_count": 373,
     "metadata": {},
     "output_type": "execute_result"
    }
   ],
   "source": [
    "s = np.linspace(0.2,0.8,50,True)\n",
    "s"
   ]
  },
  {
   "cell_type": "code",
   "execution_count": 374,
   "metadata": {
    "collapsed": true
   },
   "outputs": [],
   "source": [
    "def accuracy(t):\n",
    "    return[accuracy_score(y,pred(t))]\n"
   ]
  },
  {
   "cell_type": "code",
   "execution_count": 375,
   "metadata": {
    "collapsed": true
   },
   "outputs": [],
   "source": [
    "s = s.tolist()\n"
   ]
  },
  {
   "cell_type": "code",
   "execution_count": 376,
   "metadata": {},
   "outputs": [
    {
     "data": {
      "text/plain": [
       "pandas.core.frame.DataFrame"
      ]
     },
     "execution_count": 376,
     "metadata": {},
     "output_type": "execute_result"
    }
   ],
   "source": [
    "s = pd.DataFrame(s)\n",
    "type(s)\n"
   ]
  },
  {
   "cell_type": "code",
   "execution_count": 377,
   "metadata": {
    "collapsed": true
   },
   "outputs": [],
   "source": [
    "s.columns = ['probability_cut_off']"
   ]
  },
  {
   "cell_type": "code",
   "execution_count": 378,
   "metadata": {
    "collapsed": true
   },
   "outputs": [],
   "source": [
    "for i in s.probability_cut_off:\n",
    "    def accuracy(i):\n",
    "        return[accuracy_score(pred(i),y)]"
   ]
  },
  {
   "cell_type": "code",
   "execution_count": 379,
   "metadata": {
    "collapsed": true
   },
   "outputs": [],
   "source": [
    "s['accuracy'] = s.probability_cut_off.apply(accuracy)"
   ]
  },
  {
   "cell_type": "code",
   "execution_count": 380,
   "metadata": {
    "collapsed": true
   },
   "outputs": [],
   "source": [
    "s['sensitivity'] = s.probability_cut_off.apply(sensitivity)"
   ]
  },
  {
   "cell_type": "code",
   "execution_count": 381,
   "metadata": {
    "collapsed": true
   },
   "outputs": [],
   "source": [
    "s['specificity'] = s.probability_cut_off.apply(specificity)"
   ]
  },
  {
   "cell_type": "code",
   "execution_count": 382,
   "metadata": {},
   "outputs": [
    {
     "data": {
      "text/html": [
       "<div>\n",
       "<style>\n",
       "    .dataframe thead tr:only-child th {\n",
       "        text-align: right;\n",
       "    }\n",
       "\n",
       "    .dataframe thead th {\n",
       "        text-align: left;\n",
       "    }\n",
       "\n",
       "    .dataframe tbody tr th {\n",
       "        vertical-align: top;\n",
       "    }\n",
       "</style>\n",
       "<table border=\"1\" class=\"dataframe\">\n",
       "  <thead>\n",
       "    <tr style=\"text-align: right;\">\n",
       "      <th></th>\n",
       "      <th>probability_cut_off</th>\n",
       "      <th>accuracy</th>\n",
       "      <th>sensitivity</th>\n",
       "      <th>specificity</th>\n",
       "    </tr>\n",
       "  </thead>\n",
       "  <tbody>\n",
       "    <tr>\n",
       "      <th>0</th>\n",
       "      <td>0.200000</td>\n",
       "      <td>[0.630397236615]</td>\n",
       "      <td>[0.544554455446]</td>\n",
       "      <td>[0.828571428571]</td>\n",
       "    </tr>\n",
       "    <tr>\n",
       "      <th>1</th>\n",
       "      <td>0.212245</td>\n",
       "      <td>[0.649395509499]</td>\n",
       "      <td>[0.581683168317]</td>\n",
       "      <td>[0.805714285714]</td>\n",
       "    </tr>\n",
       "    <tr>\n",
       "      <th>2</th>\n",
       "      <td>0.224490</td>\n",
       "      <td>[0.656303972366]</td>\n",
       "      <td>[0.601485148515]</td>\n",
       "      <td>[0.782857142857]</td>\n",
       "    </tr>\n",
       "    <tr>\n",
       "      <th>3</th>\n",
       "      <td>0.236735</td>\n",
       "      <td>[0.656303972366]</td>\n",
       "      <td>[0.606435643564]</td>\n",
       "      <td>[0.771428571429]</td>\n",
       "    </tr>\n",
       "    <tr>\n",
       "      <th>4</th>\n",
       "      <td>0.248980</td>\n",
       "      <td>[0.689119170984]</td>\n",
       "      <td>[0.695544554455]</td>\n",
       "      <td>[0.674285714286]</td>\n",
       "    </tr>\n",
       "    <tr>\n",
       "      <th>5</th>\n",
       "      <td>0.261224</td>\n",
       "      <td>[0.727115716753]</td>\n",
       "      <td>[0.774752475248]</td>\n",
       "      <td>[0.617142857143]</td>\n",
       "    </tr>\n",
       "    <tr>\n",
       "      <th>6</th>\n",
       "      <td>0.273469</td>\n",
       "      <td>[0.765112262522]</td>\n",
       "      <td>[0.844059405941]</td>\n",
       "      <td>[0.582857142857]</td>\n",
       "    </tr>\n",
       "    <tr>\n",
       "      <th>7</th>\n",
       "      <td>0.285714</td>\n",
       "      <td>[0.770293609672]</td>\n",
       "      <td>[0.85396039604]</td>\n",
       "      <td>[0.577142857143]</td>\n",
       "    </tr>\n",
       "    <tr>\n",
       "      <th>8</th>\n",
       "      <td>0.297959</td>\n",
       "      <td>[0.777202072539]</td>\n",
       "      <td>[0.863861386139]</td>\n",
       "      <td>[0.577142857143]</td>\n",
       "    </tr>\n",
       "    <tr>\n",
       "      <th>9</th>\n",
       "      <td>0.310204</td>\n",
       "      <td>[0.778929188256]</td>\n",
       "      <td>[0.866336633663]</td>\n",
       "      <td>[0.577142857143]</td>\n",
       "    </tr>\n",
       "    <tr>\n",
       "      <th>10</th>\n",
       "      <td>0.322449</td>\n",
       "      <td>[0.778929188256]</td>\n",
       "      <td>[0.866336633663]</td>\n",
       "      <td>[0.577142857143]</td>\n",
       "    </tr>\n",
       "    <tr>\n",
       "      <th>11</th>\n",
       "      <td>0.334694</td>\n",
       "      <td>[0.780656303972]</td>\n",
       "      <td>[0.868811881188]</td>\n",
       "      <td>[0.577142857143]</td>\n",
       "    </tr>\n",
       "    <tr>\n",
       "      <th>12</th>\n",
       "      <td>0.346939</td>\n",
       "      <td>[0.813471502591]</td>\n",
       "      <td>[0.957920792079]</td>\n",
       "      <td>[0.48]</td>\n",
       "    </tr>\n",
       "    <tr>\n",
       "      <th>13</th>\n",
       "      <td>0.359184</td>\n",
       "      <td>[0.813471502591]</td>\n",
       "      <td>[0.957920792079]</td>\n",
       "      <td>[0.48]</td>\n",
       "    </tr>\n",
       "    <tr>\n",
       "      <th>14</th>\n",
       "      <td>0.371429</td>\n",
       "      <td>[0.818652849741]</td>\n",
       "      <td>[0.970297029703]</td>\n",
       "      <td>[0.468571428571]</td>\n",
       "    </tr>\n",
       "    <tr>\n",
       "      <th>15</th>\n",
       "      <td>0.383673</td>\n",
       "      <td>[0.818652849741]</td>\n",
       "      <td>[0.970297029703]</td>\n",
       "      <td>[0.468571428571]</td>\n",
       "    </tr>\n",
       "    <tr>\n",
       "      <th>16</th>\n",
       "      <td>0.395918</td>\n",
       "      <td>[0.818652849741]</td>\n",
       "      <td>[0.970297029703]</td>\n",
       "      <td>[0.468571428571]</td>\n",
       "    </tr>\n",
       "    <tr>\n",
       "      <th>17</th>\n",
       "      <td>0.408163</td>\n",
       "      <td>[0.820379965458]</td>\n",
       "      <td>[0.972772277228]</td>\n",
       "      <td>[0.468571428571]</td>\n",
       "    </tr>\n",
       "    <tr>\n",
       "      <th>18</th>\n",
       "      <td>0.420408</td>\n",
       "      <td>[0.818652849741]</td>\n",
       "      <td>[0.975247524752]</td>\n",
       "      <td>[0.457142857143]</td>\n",
       "    </tr>\n",
       "    <tr>\n",
       "      <th>19</th>\n",
       "      <td>0.432653</td>\n",
       "      <td>[0.818652849741]</td>\n",
       "      <td>[0.975247524752]</td>\n",
       "      <td>[0.457142857143]</td>\n",
       "    </tr>\n",
       "    <tr>\n",
       "      <th>20</th>\n",
       "      <td>0.444898</td>\n",
       "      <td>[0.816925734024]</td>\n",
       "      <td>[0.975247524752]</td>\n",
       "      <td>[0.451428571429]</td>\n",
       "    </tr>\n",
       "    <tr>\n",
       "      <th>21</th>\n",
       "      <td>0.457143</td>\n",
       "      <td>[0.813471502591]</td>\n",
       "      <td>[0.977722772277]</td>\n",
       "      <td>[0.434285714286]</td>\n",
       "    </tr>\n",
       "    <tr>\n",
       "      <th>22</th>\n",
       "      <td>0.469388</td>\n",
       "      <td>[0.813471502591]</td>\n",
       "      <td>[0.977722772277]</td>\n",
       "      <td>[0.434285714286]</td>\n",
       "    </tr>\n",
       "    <tr>\n",
       "      <th>23</th>\n",
       "      <td>0.481633</td>\n",
       "      <td>[0.813471502591]</td>\n",
       "      <td>[0.977722772277]</td>\n",
       "      <td>[0.434285714286]</td>\n",
       "    </tr>\n",
       "    <tr>\n",
       "      <th>24</th>\n",
       "      <td>0.493878</td>\n",
       "      <td>[0.811744386874]</td>\n",
       "      <td>[0.977722772277]</td>\n",
       "      <td>[0.428571428571]</td>\n",
       "    </tr>\n",
       "    <tr>\n",
       "      <th>25</th>\n",
       "      <td>0.506122</td>\n",
       "      <td>[0.811744386874]</td>\n",
       "      <td>[0.980198019802]</td>\n",
       "      <td>[0.422857142857]</td>\n",
       "    </tr>\n",
       "    <tr>\n",
       "      <th>26</th>\n",
       "      <td>0.518367</td>\n",
       "      <td>[0.813471502591]</td>\n",
       "      <td>[0.982673267327]</td>\n",
       "      <td>[0.422857142857]</td>\n",
       "    </tr>\n",
       "    <tr>\n",
       "      <th>27</th>\n",
       "      <td>0.530612</td>\n",
       "      <td>[0.813471502591]</td>\n",
       "      <td>[0.982673267327]</td>\n",
       "      <td>[0.422857142857]</td>\n",
       "    </tr>\n",
       "    <tr>\n",
       "      <th>28</th>\n",
       "      <td>0.542857</td>\n",
       "      <td>[0.813471502591]</td>\n",
       "      <td>[0.982673267327]</td>\n",
       "      <td>[0.422857142857]</td>\n",
       "    </tr>\n",
       "    <tr>\n",
       "      <th>29</th>\n",
       "      <td>0.555102</td>\n",
       "      <td>[0.813471502591]</td>\n",
       "      <td>[0.982673267327]</td>\n",
       "      <td>[0.422857142857]</td>\n",
       "    </tr>\n",
       "    <tr>\n",
       "      <th>30</th>\n",
       "      <td>0.567347</td>\n",
       "      <td>[0.813471502591]</td>\n",
       "      <td>[0.982673267327]</td>\n",
       "      <td>[0.422857142857]</td>\n",
       "    </tr>\n",
       "    <tr>\n",
       "      <th>31</th>\n",
       "      <td>0.579592</td>\n",
       "      <td>[0.813471502591]</td>\n",
       "      <td>[0.982673267327]</td>\n",
       "      <td>[0.422857142857]</td>\n",
       "    </tr>\n",
       "    <tr>\n",
       "      <th>32</th>\n",
       "      <td>0.591837</td>\n",
       "      <td>[0.813471502591]</td>\n",
       "      <td>[0.982673267327]</td>\n",
       "      <td>[0.422857142857]</td>\n",
       "    </tr>\n",
       "    <tr>\n",
       "      <th>33</th>\n",
       "      <td>0.604082</td>\n",
       "      <td>[0.813471502591]</td>\n",
       "      <td>[0.982673267327]</td>\n",
       "      <td>[0.422857142857]</td>\n",
       "    </tr>\n",
       "    <tr>\n",
       "      <th>34</th>\n",
       "      <td>0.616327</td>\n",
       "      <td>[0.811744386874]</td>\n",
       "      <td>[0.982673267327]</td>\n",
       "      <td>[0.417142857143]</td>\n",
       "    </tr>\n",
       "    <tr>\n",
       "      <th>35</th>\n",
       "      <td>0.628571</td>\n",
       "      <td>[0.811744386874]</td>\n",
       "      <td>[0.982673267327]</td>\n",
       "      <td>[0.417142857143]</td>\n",
       "    </tr>\n",
       "    <tr>\n",
       "      <th>36</th>\n",
       "      <td>0.640816</td>\n",
       "      <td>[0.811744386874]</td>\n",
       "      <td>[0.982673267327]</td>\n",
       "      <td>[0.417142857143]</td>\n",
       "    </tr>\n",
       "    <tr>\n",
       "      <th>37</th>\n",
       "      <td>0.653061</td>\n",
       "      <td>[0.811744386874]</td>\n",
       "      <td>[0.982673267327]</td>\n",
       "      <td>[0.417142857143]</td>\n",
       "    </tr>\n",
       "    <tr>\n",
       "      <th>38</th>\n",
       "      <td>0.665306</td>\n",
       "      <td>[0.811744386874]</td>\n",
       "      <td>[0.982673267327]</td>\n",
       "      <td>[0.417142857143]</td>\n",
       "    </tr>\n",
       "    <tr>\n",
       "      <th>39</th>\n",
       "      <td>0.677551</td>\n",
       "      <td>[0.811744386874]</td>\n",
       "      <td>[0.982673267327]</td>\n",
       "      <td>[0.417142857143]</td>\n",
       "    </tr>\n",
       "    <tr>\n",
       "      <th>40</th>\n",
       "      <td>0.689796</td>\n",
       "      <td>[0.811744386874]</td>\n",
       "      <td>[0.982673267327]</td>\n",
       "      <td>[0.417142857143]</td>\n",
       "    </tr>\n",
       "    <tr>\n",
       "      <th>41</th>\n",
       "      <td>0.702041</td>\n",
       "      <td>[0.811744386874]</td>\n",
       "      <td>[0.982673267327]</td>\n",
       "      <td>[0.417142857143]</td>\n",
       "    </tr>\n",
       "    <tr>\n",
       "      <th>42</th>\n",
       "      <td>0.714286</td>\n",
       "      <td>[0.811744386874]</td>\n",
       "      <td>[0.982673267327]</td>\n",
       "      <td>[0.417142857143]</td>\n",
       "    </tr>\n",
       "    <tr>\n",
       "      <th>43</th>\n",
       "      <td>0.726531</td>\n",
       "      <td>[0.811744386874]</td>\n",
       "      <td>[0.982673267327]</td>\n",
       "      <td>[0.417142857143]</td>\n",
       "    </tr>\n",
       "    <tr>\n",
       "      <th>44</th>\n",
       "      <td>0.738776</td>\n",
       "      <td>[0.804835924007]</td>\n",
       "      <td>[0.982673267327]</td>\n",
       "      <td>[0.394285714286]</td>\n",
       "    </tr>\n",
       "    <tr>\n",
       "      <th>45</th>\n",
       "      <td>0.751020</td>\n",
       "      <td>[0.804835924007]</td>\n",
       "      <td>[0.982673267327]</td>\n",
       "      <td>[0.394285714286]</td>\n",
       "    </tr>\n",
       "    <tr>\n",
       "      <th>46</th>\n",
       "      <td>0.763265</td>\n",
       "      <td>[0.806563039724]</td>\n",
       "      <td>[0.985148514851]</td>\n",
       "      <td>[0.394285714286]</td>\n",
       "    </tr>\n",
       "    <tr>\n",
       "      <th>47</th>\n",
       "      <td>0.775510</td>\n",
       "      <td>[0.806563039724]</td>\n",
       "      <td>[0.985148514851]</td>\n",
       "      <td>[0.394285714286]</td>\n",
       "    </tr>\n",
       "    <tr>\n",
       "      <th>48</th>\n",
       "      <td>0.787755</td>\n",
       "      <td>[0.799654576857]</td>\n",
       "      <td>[0.985148514851]</td>\n",
       "      <td>[0.371428571429]</td>\n",
       "    </tr>\n",
       "    <tr>\n",
       "      <th>49</th>\n",
       "      <td>0.800000</td>\n",
       "      <td>[0.79792746114]</td>\n",
       "      <td>[0.985148514851]</td>\n",
       "      <td>[0.365714285714]</td>\n",
       "    </tr>\n",
       "  </tbody>\n",
       "</table>\n",
       "</div>"
      ],
      "text/plain": [
       "    probability_cut_off          accuracy       sensitivity       specificity\n",
       "0              0.200000  [0.630397236615]  [0.544554455446]  [0.828571428571]\n",
       "1              0.212245  [0.649395509499]  [0.581683168317]  [0.805714285714]\n",
       "2              0.224490  [0.656303972366]  [0.601485148515]  [0.782857142857]\n",
       "3              0.236735  [0.656303972366]  [0.606435643564]  [0.771428571429]\n",
       "4              0.248980  [0.689119170984]  [0.695544554455]  [0.674285714286]\n",
       "5              0.261224  [0.727115716753]  [0.774752475248]  [0.617142857143]\n",
       "6              0.273469  [0.765112262522]  [0.844059405941]  [0.582857142857]\n",
       "7              0.285714  [0.770293609672]   [0.85396039604]  [0.577142857143]\n",
       "8              0.297959  [0.777202072539]  [0.863861386139]  [0.577142857143]\n",
       "9              0.310204  [0.778929188256]  [0.866336633663]  [0.577142857143]\n",
       "10             0.322449  [0.778929188256]  [0.866336633663]  [0.577142857143]\n",
       "11             0.334694  [0.780656303972]  [0.868811881188]  [0.577142857143]\n",
       "12             0.346939  [0.813471502591]  [0.957920792079]            [0.48]\n",
       "13             0.359184  [0.813471502591]  [0.957920792079]            [0.48]\n",
       "14             0.371429  [0.818652849741]  [0.970297029703]  [0.468571428571]\n",
       "15             0.383673  [0.818652849741]  [0.970297029703]  [0.468571428571]\n",
       "16             0.395918  [0.818652849741]  [0.970297029703]  [0.468571428571]\n",
       "17             0.408163  [0.820379965458]  [0.972772277228]  [0.468571428571]\n",
       "18             0.420408  [0.818652849741]  [0.975247524752]  [0.457142857143]\n",
       "19             0.432653  [0.818652849741]  [0.975247524752]  [0.457142857143]\n",
       "20             0.444898  [0.816925734024]  [0.975247524752]  [0.451428571429]\n",
       "21             0.457143  [0.813471502591]  [0.977722772277]  [0.434285714286]\n",
       "22             0.469388  [0.813471502591]  [0.977722772277]  [0.434285714286]\n",
       "23             0.481633  [0.813471502591]  [0.977722772277]  [0.434285714286]\n",
       "24             0.493878  [0.811744386874]  [0.977722772277]  [0.428571428571]\n",
       "25             0.506122  [0.811744386874]  [0.980198019802]  [0.422857142857]\n",
       "26             0.518367  [0.813471502591]  [0.982673267327]  [0.422857142857]\n",
       "27             0.530612  [0.813471502591]  [0.982673267327]  [0.422857142857]\n",
       "28             0.542857  [0.813471502591]  [0.982673267327]  [0.422857142857]\n",
       "29             0.555102  [0.813471502591]  [0.982673267327]  [0.422857142857]\n",
       "30             0.567347  [0.813471502591]  [0.982673267327]  [0.422857142857]\n",
       "31             0.579592  [0.813471502591]  [0.982673267327]  [0.422857142857]\n",
       "32             0.591837  [0.813471502591]  [0.982673267327]  [0.422857142857]\n",
       "33             0.604082  [0.813471502591]  [0.982673267327]  [0.422857142857]\n",
       "34             0.616327  [0.811744386874]  [0.982673267327]  [0.417142857143]\n",
       "35             0.628571  [0.811744386874]  [0.982673267327]  [0.417142857143]\n",
       "36             0.640816  [0.811744386874]  [0.982673267327]  [0.417142857143]\n",
       "37             0.653061  [0.811744386874]  [0.982673267327]  [0.417142857143]\n",
       "38             0.665306  [0.811744386874]  [0.982673267327]  [0.417142857143]\n",
       "39             0.677551  [0.811744386874]  [0.982673267327]  [0.417142857143]\n",
       "40             0.689796  [0.811744386874]  [0.982673267327]  [0.417142857143]\n",
       "41             0.702041  [0.811744386874]  [0.982673267327]  [0.417142857143]\n",
       "42             0.714286  [0.811744386874]  [0.982673267327]  [0.417142857143]\n",
       "43             0.726531  [0.811744386874]  [0.982673267327]  [0.417142857143]\n",
       "44             0.738776  [0.804835924007]  [0.982673267327]  [0.394285714286]\n",
       "45             0.751020  [0.804835924007]  [0.982673267327]  [0.394285714286]\n",
       "46             0.763265  [0.806563039724]  [0.985148514851]  [0.394285714286]\n",
       "47             0.775510  [0.806563039724]  [0.985148514851]  [0.394285714286]\n",
       "48             0.787755  [0.799654576857]  [0.985148514851]  [0.371428571429]\n",
       "49             0.800000   [0.79792746114]  [0.985148514851]  [0.365714285714]"
      ]
     },
     "execution_count": 382,
     "metadata": {},
     "output_type": "execute_result"
    }
   ],
   "source": [
    "s"
   ]
  },
  {
   "cell_type": "code",
   "execution_count": 383,
   "metadata": {},
   "outputs": [
    {
     "data": {
      "text/plain": [
       "array([ 0.2       ,  0.2122449 ,  0.2244898 ,  0.23673469,  0.24897959,\n",
       "        0.26122449,  0.27346939,  0.28571429,  0.29795918,  0.31020408,\n",
       "        0.32244898,  0.33469388,  0.34693878,  0.35918367,  0.37142857,\n",
       "        0.38367347,  0.39591837,  0.40816327,  0.42040816,  0.43265306,\n",
       "        0.44489796,  0.45714286,  0.46938776,  0.48163265,  0.49387755,\n",
       "        0.50612245,  0.51836735,  0.53061224,  0.54285714,  0.55510204,\n",
       "        0.56734694,  0.57959184,  0.59183673,  0.60408163,  0.61632653,\n",
       "        0.62857143,  0.64081633,  0.65306122,  0.66530612,  0.67755102,\n",
       "        0.68979592,  0.70204082,  0.71428571,  0.72653061,  0.73877551,\n",
       "        0.75102041,  0.76326531,  0.7755102 ,  0.7877551 ,  0.8       ])"
      ]
     },
     "execution_count": 383,
     "metadata": {},
     "output_type": "execute_result"
    }
   ],
   "source": [
    "probability_cut_off_list = np.array(s.probability_cut_off)\n",
    "probability_cut_off_list"
   ]
  },
  {
   "cell_type": "code",
   "execution_count": 384,
   "metadata": {},
   "outputs": [
    {
     "data": {
      "text/plain": [
       "array([ 0.63039724,  0.64939551,  0.65630397,  0.65630397,  0.68911917,\n",
       "        0.72711572,  0.76511226,  0.77029361,  0.77720207,  0.77892919,\n",
       "        0.77892919,  0.7806563 ,  0.8134715 ,  0.8134715 ,  0.81865285,\n",
       "        0.81865285,  0.81865285,  0.82037997,  0.81865285,  0.81865285,\n",
       "        0.81692573,  0.8134715 ,  0.8134715 ,  0.8134715 ,  0.81174439,\n",
       "        0.81174439,  0.8134715 ,  0.8134715 ,  0.8134715 ,  0.8134715 ,\n",
       "        0.8134715 ,  0.8134715 ,  0.8134715 ,  0.8134715 ,  0.81174439,\n",
       "        0.81174439,  0.81174439,  0.81174439,  0.81174439,  0.81174439,\n",
       "        0.81174439,  0.81174439,  0.81174439,  0.81174439,  0.80483592,\n",
       "        0.80483592,  0.80656304,  0.80656304,  0.79965458,  0.79792746])"
      ]
     },
     "execution_count": 384,
     "metadata": {},
     "output_type": "execute_result"
    }
   ],
   "source": [
    "accuracy_nplist = np.array(s.accuracy)\n",
    "np.shape(accuracy_nplist)\n",
    "accuracy_list = np.concatenate( accuracy_nplist, axis=0 )\n",
    "accuracy_list"
   ]
  },
  {
   "cell_type": "code",
   "execution_count": 385,
   "metadata": {},
   "outputs": [
    {
     "data": {
      "text/plain": [
       "array([ 0.54455446,  0.58168317,  0.60148515,  0.60643564,  0.69554455,\n",
       "        0.77475248,  0.84405941,  0.8539604 ,  0.86386139,  0.86633663,\n",
       "        0.86633663,  0.86881188,  0.95792079,  0.95792079,  0.97029703,\n",
       "        0.97029703,  0.97029703,  0.97277228,  0.97524752,  0.97524752,\n",
       "        0.97524752,  0.97772277,  0.97772277,  0.97772277,  0.97772277,\n",
       "        0.98019802,  0.98267327,  0.98267327,  0.98267327,  0.98267327,\n",
       "        0.98267327,  0.98267327,  0.98267327,  0.98267327,  0.98267327,\n",
       "        0.98267327,  0.98267327,  0.98267327,  0.98267327,  0.98267327,\n",
       "        0.98267327,  0.98267327,  0.98267327,  0.98267327,  0.98267327,\n",
       "        0.98267327,  0.98514851,  0.98514851,  0.98514851,  0.98514851])"
      ]
     },
     "execution_count": 385,
     "metadata": {},
     "output_type": "execute_result"
    }
   ],
   "source": [
    "sensitivity_nplist = np.array(s.sensitivity)\n",
    "np.shape(sensitivity_nplist)\n",
    "sensitivity_list = np.concatenate( sensitivity_nplist, axis=0 )\n",
    "sensitivity_list"
   ]
  },
  {
   "cell_type": "code",
   "execution_count": 386,
   "metadata": {},
   "outputs": [
    {
     "data": {
      "text/plain": [
       "array([ 0.82857143,  0.80571429,  0.78285714,  0.77142857,  0.67428571,\n",
       "        0.61714286,  0.58285714,  0.57714286,  0.57714286,  0.57714286,\n",
       "        0.57714286,  0.57714286,  0.48      ,  0.48      ,  0.46857143,\n",
       "        0.46857143,  0.46857143,  0.46857143,  0.45714286,  0.45714286,\n",
       "        0.45142857,  0.43428571,  0.43428571,  0.43428571,  0.42857143,\n",
       "        0.42285714,  0.42285714,  0.42285714,  0.42285714,  0.42285714,\n",
       "        0.42285714,  0.42285714,  0.42285714,  0.42285714,  0.41714286,\n",
       "        0.41714286,  0.41714286,  0.41714286,  0.41714286,  0.41714286,\n",
       "        0.41714286,  0.41714286,  0.41714286,  0.41714286,  0.39428571,\n",
       "        0.39428571,  0.39428571,  0.39428571,  0.37142857,  0.36571429])"
      ]
     },
     "execution_count": 386,
     "metadata": {},
     "output_type": "execute_result"
    }
   ],
   "source": [
    "specificity_nplist = np.array(s.specificity)\n",
    "np.shape(specificity_nplist)\n",
    "specificity_list = np.concatenate( specificity_nplist, axis=0 )\n",
    "specificity_list"
   ]
  },
  {
   "cell_type": "code",
   "execution_count": 387,
   "metadata": {},
   "outputs": [
    {
     "data": {
      "image/png": "[encoded data removed]",
      "text/plain": [
       "<matplotlib.figure.Figure at 0x6e73b00>"
      ]
     },
     "metadata": {},
     "output_type": "display_data"
    }
   ],
   "source": [
    "import matplotlib.pyplot as plt\n",
    "plt.plot(probability_cut_off_list, accuracy_list, color='green')\n",
    "plt.plot(probability_cut_off_list, sensitivity_list, color='red')\n",
    "plt.plot(probability_cut_off_list, specificity_list, color = 'blue')\n",
    "plt.xlabel('probability_cut_off')\n",
    "plt.ylabel('accuracy,specificity,sensitivity')\n",
    "plt.show()"
   ]
  },
  {
   "cell_type": "markdown",
   "metadata": {},
   "source": [
    "zooming in the region of intersection using plt.axis([xmin, xmax, ymin,ymax])"
   ]
  },
  {
   "cell_type": "code",
   "execution_count": 388,
   "metadata": {},
   "outputs": [
    {
     "data": {
      "image/png": "[encoded data removed]",
      "text/plain": [
       "<matplotlib.figure.Figure at 0x6e73128>"
      ]
     },
     "metadata": {},
     "output_type": "display_data"
    }
   ],
   "source": [
    "import matplotlib.pyplot as plt\n",
    "plt.plot(probability_cut_off_list, accuracy_list, color='green')\n",
    "plt.plot(probability_cut_off_list, sensitivity_list, color='red')\n",
    "plt.plot(probability_cut_off_list, specificity_list, color = 'blue')\n",
    "plt.xlabel('probability_cut_off')\n",
    "plt.ylabel('accuracy,specificity,sensitivity')\n",
    "plt.axis([0.24, 0.25, 0.68, 0.69])\n",
    "plt.show()"
   ]
  },
  {
   "cell_type": "markdown",
   "metadata": {},
   "source": [
    "The point of intersection is the optimum solution i.e it gives the value where accuracy, sensitivity and specificity are optimum."
   ]
  },
  {
   "cell_type": "code",
   "execution_count": 389,
   "metadata": {},
   "outputs": [
    {
     "data": {
      "text/plain": [
       "array([ 0.08584278,  0.06771234,  0.05481882,  0.04986833,  0.00642538,\n",
       "        0.04763676,  0.07894714,  0.08366679,  0.08665931,  0.08740745,\n",
       "        0.08740745,  0.08815558,  0.14444929,  0.14444929,  0.15164418,\n",
       "        0.15164418,  0.15164418,  0.15239231,  0.15659468,  0.15659468,\n",
       "        0.15832179,  0.16425127,  0.16425127,  0.16425127,  0.16597839,\n",
       "        0.16845363,  0.16920176,  0.16920176,  0.16920176,  0.16920176,\n",
       "        0.16920176,  0.16920176,  0.16920176,  0.16920176,  0.17092888,\n",
       "        0.17092888,  0.17092888,  0.17092888,  0.17092888,  0.17092888,\n",
       "        0.17092888,  0.17092888,  0.17092888,  0.17092888,  0.17783734,\n",
       "        0.17783734,  0.17858548,  0.17858548,  0.18549394,  0.18722105])"
      ]
     },
     "execution_count": 389,
     "metadata": {},
     "output_type": "execute_result"
    }
   ],
   "source": [
    "acc_sen_diff=accuracy_list - sensitivity_list\n",
    "acc_sen_diff = abs(acc_sen_diff)\n",
    "acc_sen_diff"
   ]
  },
  {
   "cell_type": "code",
   "execution_count": 390,
   "metadata": {},
   "outputs": [
    {
     "data": {
      "text/plain": [
       "array([ 0.19817419,  0.15631878,  0.12655317,  0.1151246 ,  0.01483346,\n",
       "        0.10997286,  0.18225512,  0.19315075,  0.20005922,  0.20178633,\n",
       "        0.20178633,  0.20351345,  0.3334715 ,  0.3334715 ,  0.35008142,\n",
       "        0.35008142,  0.35008142,  0.35180854,  0.36150999,  0.36150999,\n",
       "        0.36549716,  0.37918579,  0.37918579,  0.37918579,  0.38317296,\n",
       "        0.38888724,  0.39061436,  0.39061436,  0.39061436,  0.39061436,\n",
       "        0.39061436,  0.39061436,  0.39061436,  0.39061436,  0.39460153,\n",
       "        0.39460153,  0.39460153,  0.39460153,  0.39460153,  0.39460153,\n",
       "        0.39460153,  0.39460153,  0.39460153,  0.39460153,  0.41055021,\n",
       "        0.41055021,  0.41227733,  0.41227733,  0.42822601,  0.43221318])"
      ]
     },
     "execution_count": 390,
     "metadata": {},
     "output_type": "execute_result"
    }
   ],
   "source": [
    "acc_spe_diff = abs(accuracy_list - specificity_list)\n",
    "acc_spe_diff"
   ]
  },
  {
   "cell_type": "code",
   "execution_count": 391,
   "metadata": {},
   "outputs": [
    {
     "data": {
      "text/plain": [
       "array([ 0.28401697,  0.22403112,  0.18137199,  0.16499293,  0.02125884,\n",
       "        0.15760962,  0.26120226,  0.27681754,  0.28671853,  0.28919378,\n",
       "        0.28919378,  0.29166902,  0.47792079,  0.47792079,  0.5017256 ,\n",
       "        0.5017256 ,  0.5017256 ,  0.50420085,  0.51810467,  0.51810467,\n",
       "        0.52381895,  0.54343706,  0.54343706,  0.54343706,  0.54915134,\n",
       "        0.55734088,  0.55981612,  0.55981612,  0.55981612,  0.55981612,\n",
       "        0.55981612,  0.55981612,  0.55981612,  0.55981612,  0.56553041,\n",
       "        0.56553041,  0.56553041,  0.56553041,  0.56553041,  0.56553041,\n",
       "        0.56553041,  0.56553041,  0.56553041,  0.56553041,  0.58838755,\n",
       "        0.58838755,  0.5908628 ,  0.5908628 ,  0.61371994,  0.61943423])"
      ]
     },
     "execution_count": 391,
     "metadata": {},
     "output_type": "execute_result"
    }
   ],
   "source": [
    "sen_spe_diff = abs(sensitivity_list - specificity_list)\n",
    "sen_spe_diff"
   ]
  },
  {
   "cell_type": "code",
   "execution_count": null,
   "metadata": {},
   "outputs": [],
   "source": []
  },
  {
   "cell_type": "code",
   "execution_count": 393,
   "metadata": {},
   "outputs": [
    {
     "data": {
      "text/plain": [
       "array([[3, 4, 5]], dtype=int64)"
      ]
     },
     "execution_count": 393,
     "metadata": {},
     "output_type": "execute_result"
    }
   ],
   "source": [
    "np.array(np.where(acc_sen_diff<0.05))"
   ]
  },
  {
   "cell_type": "code",
   "execution_count": 394,
   "metadata": {},
   "outputs": [
    {
     "data": {
      "text/plain": [
       "array([[4]], dtype=int64)"
      ]
     },
     "execution_count": 394,
     "metadata": {},
     "output_type": "execute_result"
    }
   ],
   "source": [
    "np.array(np.where(acc_spe_diff<0.05))"
   ]
  },
  {
   "cell_type": "code",
   "execution_count": 395,
   "metadata": {},
   "outputs": [
    {
     "data": {
      "text/plain": [
       "array([[4]], dtype=int64)"
      ]
     },
     "execution_count": 395,
     "metadata": {},
     "output_type": "execute_result"
    }
   ],
   "source": [
    "np.array(np.where(sen_spe_diff<0.05))"
   ]
  },
  {
   "cell_type": "markdown",
   "metadata": {},
   "source": [
    "from the above 3 code outputs we can say at the 5th point of the probability cut-off the 3 measures are approx equal"
   ]
  },
  {
   "cell_type": "code",
   "execution_count": 396,
   "metadata": {},
   "outputs": [
    {
     "data": {
      "text/plain": [
       "0.68911917098445596"
      ]
     },
     "execution_count": 396,
     "metadata": {},
     "output_type": "execute_result"
    }
   ],
   "source": [
    "accuracy_list[4]"
   ]
  },
  {
   "cell_type": "code",
   "execution_count": 397,
   "metadata": {},
   "outputs": [
    {
     "data": {
      "text/plain": [
       "0.6955445544554455"
      ]
     },
     "execution_count": 397,
     "metadata": {},
     "output_type": "execute_result"
    }
   ],
   "source": [
    " sensitivity_list[4]"
   ]
  },
  {
   "cell_type": "code",
   "execution_count": 398,
   "metadata": {},
   "outputs": [
    {
     "data": {
      "text/plain": [
       "0.67428571428571427"
      ]
     },
     "execution_count": 398,
     "metadata": {},
     "output_type": "execute_result"
    }
   ],
   "source": [
    "specificity_list[4]"
   ]
  },
  {
   "cell_type": "code",
   "execution_count": 399,
   "metadata": {},
   "outputs": [
    {
     "data": {
      "text/plain": [
       "0.24897959183673471"
      ]
     },
     "execution_count": 399,
     "metadata": {},
     "output_type": "execute_result"
    }
   ],
   "source": [
    "probability_cut_off_list[4]"
   ]
  },
  {
   "cell_type": "markdown",
   "metadata": {
    "collapsed": true
   },
   "source": [
    "the probability cut_off is 0.2489795918367347 for optimal solution. The accuracy, sensitivity and specificity are 0.68911917098445596, 0.6955445544554455 and 0.67428571428571427."
   ]
  },
  {
   "cell_type": "markdown",
   "metadata": {
    "collapsed": true
   },
   "source": [
    "Considering the logistic model with probability cut off 0.24897959183673471 as our final model we apply logistic regression to the test data."
   ]
  },
  {
   "cell_type": "markdown",
   "metadata": {
    "collapsed": true
   },
   "source": [
    "# Test Data"
   ]
  },
  {
   "cell_type": "code",
   "execution_count": 400,
   "metadata": {},
   "outputs": [
    {
     "name": "stdout",
     "output_type": "stream",
     "text": [
      "<class 'pandas.core.frame.DataFrame'>\n",
      "RangeIndex: 367 entries, 0 to 366\n",
      "Data columns (total 12 columns):\n",
      "Loan_ID              367 non-null object\n",
      "Gender               356 non-null object\n",
      "Married              367 non-null object\n",
      "Dependents           357 non-null object\n",
      "Education            367 non-null object\n",
      "Self_Employed        344 non-null object\n",
      "ApplicantIncome      367 non-null int64\n",
      "CoapplicantIncome    367 non-null int64\n",
      "LoanAmount           362 non-null float64\n",
      "Loan_Amount_Term     361 non-null float64\n",
      "Credit_History       338 non-null float64\n",
      "Property_Area        367 non-null object\n",
      "dtypes: float64(3), int64(2), object(7)\n",
      "memory usage: 34.5+ KB\n"
     ]
    }
   ],
   "source": [
    "df_test.info()"
   ]
  },
  {
   "cell_type": "code",
   "execution_count": 401,
   "metadata": {},
   "outputs": [
    {
     "data": {
      "text/plain": [
       "0     0.560224\n",
       "2     0.165266\n",
       "1     0.162465\n",
       "3+    0.112045\n",
       "Name: Dependents, dtype: float64"
      ]
     },
     "execution_count": 401,
     "metadata": {},
     "output_type": "execute_result"
    }
   ],
   "source": [
    "df_test.Dependents.value_counts(normalize=True)"
   ]
  },
  {
   "cell_type": "code",
   "execution_count": 402,
   "metadata": {
    "collapsed": true
   },
   "outputs": [],
   "source": [
    "df_test.Dependents.fillna(value='3+',inplace=True)"
   ]
  },
  {
   "cell_type": "code",
   "execution_count": 403,
   "metadata": {
    "collapsed": true
   },
   "outputs": [],
   "source": [
    "df_test.Self_Employed.fillna(value=df_test.Self_Employed.mode()[0],inplace=True)"
   ]
  },
  {
   "cell_type": "code",
   "execution_count": 404,
   "metadata": {
    "collapsed": true
   },
   "outputs": [],
   "source": [
    "normalrangeLoanAmount=df_test.LoanAmount[df_test.LoanAmount<df_test.LoanAmount.quantile(0.99)]\n",
    "df_test.LoanAmount.fillna(value=normalrangeLoanAmount.mean(),inplace=True)"
   ]
  },
  {
   "cell_type": "code",
   "execution_count": 405,
   "metadata": {
    "collapsed": true
   },
   "outputs": [],
   "source": [
    "df_test.Loan_Amount_Term.value_counts(normalize=True)\n",
    "df_test.Loan_Amount_Term.fillna(value=df_test.Loan_Amount_Term.mode()[0],inplace=True)"
   ]
  },
  {
   "cell_type": "code",
   "execution_count": 406,
   "metadata": {
    "collapsed": true
   },
   "outputs": [],
   "source": [
    "df_test.Credit_History.fillna(value=df_test.Credit_History.mode()[0],inplace=True)"
   ]
  },
  {
   "cell_type": "code",
   "execution_count": 407,
   "metadata": {
    "collapsed": true
   },
   "outputs": [],
   "source": [
    "df_test.Property_Area.fillna(value=df_test.Property_Area.mode()[0],inplace=True)"
   ]
  },
  {
   "cell_type": "code",
   "execution_count": 408,
   "metadata": {},
   "outputs": [
    {
     "name": "stdout",
     "output_type": "stream",
     "text": [
      "<class 'pandas.core.frame.DataFrame'>\n",
      "RangeIndex: 367 entries, 0 to 366\n",
      "Data columns (total 12 columns):\n",
      "Loan_ID              367 non-null object\n",
      "Gender               356 non-null object\n",
      "Married              367 non-null object\n",
      "Dependents           367 non-null object\n",
      "Education            367 non-null object\n",
      "Self_Employed        367 non-null object\n",
      "ApplicantIncome      367 non-null int64\n",
      "CoapplicantIncome    367 non-null int64\n",
      "LoanAmount           367 non-null float64\n",
      "Loan_Amount_Term     367 non-null float64\n",
      "Credit_History       367 non-null float64\n",
      "Property_Area        367 non-null object\n",
      "dtypes: float64(3), int64(2), object(7)\n",
      "memory usage: 34.5+ KB\n"
     ]
    }
   ],
   "source": [
    "df_test.info()"
   ]
  },
  {
   "cell_type": "raw",
   "metadata": {},
   "source": [
    "We have treated the inconsistencies in the data Now we have to convert the variables to dummy form the way we did for training data to apply logistic model. "
   ]
  },
  {
   "cell_type": "code",
   "execution_count": 409,
   "metadata": {},
   "outputs": [],
   "source": [
    "import pandas as pd\n",
    "Gender_t = pd.get_dummies(df_test.Gender)\n",
    "Gender_t.head\n",
    "\n",
    "Gender_t = Gender_t[['Female']]"
   ]
  },
  {
   "cell_type": "code",
   "execution_count": 410,
   "metadata": {},
   "outputs": [],
   "source": [
    "Married_t = pd.get_dummies(df_test.Married)\n",
    "Married_t= Married_t[['No']]"
   ]
  },
  {
   "cell_type": "code",
   "execution_count": 411,
   "metadata": {},
   "outputs": [],
   "source": [
    "Dependents_t = pd.get_dummies(df_test.Dependents)\n",
    "Dependents_t = Dependents_t[['0','1','2']]"
   ]
  },
  {
   "cell_type": "code",
   "execution_count": 412,
   "metadata": {},
   "outputs": [],
   "source": [
    "yr = df_test.Loan_Amount_Term\n",
    "yr = yr/12\n",
    "yr\n",
    "LAT_t = pd.get_dummies(yr)\n",
    "LAT_t= LAT_t [[1.0,3.0,5.0,7.0,10.0,15.0,20.0,25.0,30.0]]"
   ]
  },
  {
   "cell_type": "code",
   "execution_count": 413,
   "metadata": {},
   "outputs": [],
   "source": [
    "CH_t= pd.get_dummies(df_test.Credit_History)\n",
    "CH_t= CH_t[[0.0]]"
   ]
  },
  {
   "cell_type": "code",
   "execution_count": 414,
   "metadata": {},
   "outputs": [
    {
     "name": "stderr",
     "output_type": "stream",
     "text": [
      "C:\\Users\\Administrator\\Desktop\\Python\\New folder\\lib\\site-packages\\ipykernel_launcher.py:3: SettingWithCopyWarning: \n",
      "A value is trying to be set on a copy of a slice from a DataFrame.\n",
      "Try using .loc[row_indexer,col_indexer] = value instead\n",
      "\n",
      "See the caveats in the documentation: http://pandas.pydata.org/pandas-docs/stable/indexing.html#indexing-view-versus-copy\n",
      "  This is separate from the ipykernel package so we can avoid doing imports until\n",
      "C:\\Users\\Administrator\\Desktop\\Python\\New folder\\lib\\site-packages\\pandas\\core\\frame.py:2444: SettingWithCopyWarning: \n",
      "A value is trying to be set on a copy of a slice from a DataFrame\n",
      "\n",
      "See the caveats in the documentation: http://pandas.pydata.org/pandas-docs/stable/indexing.html#indexing-view-versus-copy\n",
      "  self.loc._setitem_with_indexer(indexer, value)\n",
      "C:\\Users\\Administrator\\Desktop\\Python\\New folder\\lib\\site-packages\\pandas\\core\\frame.py:2424: SettingWithCopyWarning: \n",
      "A value is trying to be set on a copy of a slice from a DataFrame\n",
      "\n",
      "See the caveats in the documentation: http://pandas.pydata.org/pandas-docs/stable/indexing.html#indexing-view-versus-copy\n",
      "  self._setitem_array(key, value)\n",
      "C:\\Users\\Administrator\\Desktop\\Python\\New folder\\lib\\site-packages\\ipykernel_launcher.py:4: SettingWithCopyWarning: \n",
      "A value is trying to be set on a copy of a slice from a DataFrame.\n",
      "Try using .loc[row_indexer,col_indexer] = value instead\n",
      "\n",
      "See the caveats in the documentation: http://pandas.pydata.org/pandas-docs/stable/indexing.html#indexing-view-versus-copy\n",
      "  after removing the cwd from sys.path.\n",
      "C:\\Users\\Administrator\\Desktop\\Python\\New folder\\lib\\site-packages\\ipykernel_launcher.py:5: SettingWithCopyWarning: \n",
      "A value is trying to be set on a copy of a slice from a DataFrame.\n",
      "Try using .loc[row_indexer,col_indexer] = value instead\n",
      "\n",
      "See the caveats in the documentation: http://pandas.pydata.org/pandas-docs/stable/indexing.html#indexing-view-versus-copy\n",
      "  \"\"\"\n"
     ]
    }
   ],
   "source": [
    "#in property area categories are in form of strings so before converting them to dummies convert it into numeric\n",
    "PA_t = df_test[['Property_Area']]\n",
    "PA_t[PA_t.Property_Area == 'Rural'] = 0\n",
    "PA_t[PA_t.Property_Area == 'Semiurban'] = 1\n",
    "PA_t[PA_t.Property_Area == 'Urban'] = 2 \n",
    "\n",
    "# now this is numeric form\n",
    "PA_t = pd.get_dummies(PA_t)\n",
    "PA_t = PA_t[['Property_Area_0','Property_Area_1']]"
   ]
  },
  {
   "cell_type": "code",
   "execution_count": null,
   "metadata": {},
   "outputs": [],
   "source": []
  },
  {
   "cell_type": "code",
   "execution_count": 415,
   "metadata": {},
   "outputs": [],
   "source": [
    "X_test = pd.concat([Gender_t.reset_index(drop=True),Married_t.reset_index(drop=True),Dependents_t.reset_index(drop=True),LAT_t.reset_index(drop=True), CH_t.reset_index(drop=True), PA_t.reset_index(drop=True)], axis=1)"
   ]
  },
  {
   "cell_type": "markdown",
   "metadata": {},
   "source": [
    "Now we apply the logistic regression model on X_test."
   ]
  },
  {
   "cell_type": "code",
   "execution_count": 416,
   "metadata": {},
   "outputs": [],
   "source": [
    "test_prediction_prob = LoR.predict_proba(X_test)"
   ]
  },
  {
   "cell_type": "code",
   "execution_count": 417,
   "metadata": {
    "collapsed": true
   },
   "outputs": [],
   "source": [
    "prob_of_0=test_prediction_prob[:,0]"
   ]
  },
  {
   "cell_type": "code",
   "execution_count": 418,
   "metadata": {},
   "outputs": [],
   "source": [
    "prob = pd.DataFrame(prob_of_0)\n",
    "prob.columns = ['probability_of_0']\n"
   ]
  },
  {
   "cell_type": "code",
   "execution_count": 419,
   "metadata": {},
   "outputs": [],
   "source": [
    "def prediction(t):\n",
    "        return [0 if t >= 0.24897959183673471 else 1]"
   ]
  },
  {
   "cell_type": "code",
   "execution_count": 420,
   "metadata": {},
   "outputs": [],
   "source": [
    "prob['prediction'] = prob.probability_of_0.apply(prediction)\n",
    "prob['prediction']\n",
    "prediction_list = np.array(prob.prediction)\n",
    "prediction_list = np.concatenate( prediction_list, axis=0 )"
   ]
  },
  {
   "cell_type": "code",
   "execution_count": 421,
   "metadata": {},
   "outputs": [],
   "source": [
    "predictiondf = pd.DataFrame(prediction_list)"
   ]
  },
  {
   "cell_type": "code",
   "execution_count": 422,
   "metadata": {},
   "outputs": [
    {
     "data": {
      "text/plain": [
       "1    203\n",
       "0    164\n",
       "Name: predictions, dtype: int64"
      ]
     },
     "execution_count": 422,
     "metadata": {},
     "output_type": "execute_result"
    }
   ],
   "source": [
    "predictiondf.columns = ['predictions']\n",
    "predictiondf.predictions.value_counts()"
   ]
  },
  {
   "cell_type": "markdown",
   "metadata": {},
   "source": [
    "203 applicants's loan status is predicted passed and 164 is predicted to be failed."
   ]
  },
  {
   "cell_type": "code",
   "execution_count": null,
   "metadata": {
    "collapsed": true
   },
   "outputs": [],
   "source": []
  },
  {
   "cell_type": "code",
   "execution_count": null,
   "metadata": {
    "collapsed": true
   },
   "outputs": [],
   "source": []
  }
 ],
 "metadata": {
  "kernelspec": {
   "display_name": "Python 3",
   "language": "python",
   "name": "python3"
  },
  "language_info": {
   "codemirror_mode": {
    "name": "ipython",
    "version": 3
   },
   "file_extension": ".py",
   "mimetype": "text/x-python",
   "name": "python",
   "nbconvert_exporter": "python",
   "pygments_lexer": "ipython3",
   "version": "3.6.1"
  }
 },
 "nbformat": 4,
 "nbformat_minor": 2
}
